{
 "cells": [
  {
   "cell_type": "code",
   "execution_count": 1,
   "metadata": {},
   "outputs": [],
   "source": [
    "#Notebook para fazer prediçao de fator fotoeletrico - XGBoost\n",
    "\n",
    "import numpy as np\n",
    "import pandas as pd\n",
    "\n",
    "import matplotlib.pyplot as plt\n",
    "\n",
    "from sklearn.model_selection import train_test_split\n",
    "from sklearn.preprocessing import StandardScaler\n",
    "from sklearn.metrics import confusion_matrix, precision_recall_curve, roc_auc_score, roc_curve, accuracy_score\n",
    "from sklearn.ensemble import RandomForestClassifier\n",
    "from sklearn.metrics import classification_report\n",
    "from sklearn.metrics import mean_squared_error\n",
    "from sklearn.metrics import r2_score\n",
    "\n",
    "import seaborn as sns\n",
    "\n",
    "from sklearn.model_selection import GridSearchCV\n",
    "\n",
    "# para otimização dos parâmetros\n",
    "from hyperopt import fmin, hp, anneal, Trials\n",
    "from sklearn.model_selection import RandomizedSearchCV\n",
    "from sklearn.model_selection import KFold, cross_val_score\n",
    "from sklearn.metrics import accuracy_score\n",
    "\n",
    "from sklearn import preprocessing\n",
    "\n",
    "from sklearn.neural_network import MLPRegressor\n",
    "from xgboost import XGBRegressor\n",
    "from sklearn.neural_network import MLPClassifier\n",
    "\n",
    "#import lasio\n",
    "\n",
    "from imblearn.over_sampling import SMOTE"
   ]
  },
  {
   "cell_type": "code",
   "execution_count": 2,
   "metadata": {},
   "outputs": [],
   "source": [
    "# Carregar os dados salvos do Notebook1\n",
    "\n",
    "file1 = 'df.csv' #dados escalonados\n",
    "file2 = 'df_base.csv' #dados sem escalamento\n",
    "\n",
    "df = pd.read_csv(file1)\n",
    "df_base = pd.read_csv(file2) #nao escalonado"
   ]
  },
  {
   "cell_type": "code",
   "execution_count": 3,
   "metadata": {},
   "outputs": [],
   "source": [
    "#mantendo apenas colunas necessarias para previsao de fe cabo\n",
    "\n",
    "selected_columns = ['GR_LWD','fator_foto_LWD','caliper_LWD','densidade_LWD','neutrons_LWD','fator_foto_cabo', 'poco']\n",
    "\n",
    "df_fe = df[selected_columns]\n",
    "df_basefe = df_base[selected_columns]"
   ]
  },
  {
   "cell_type": "code",
   "execution_count": 4,
   "metadata": {},
   "outputs": [],
   "source": [
    "#Preparando para fazer o balancemento\n",
    "X = df_fe.drop(\"poco\", axis = 1)\n",
    "y = df_fe.poco\n",
    "\n",
    "#fazer o mesmo para o df_base\n",
    "\n",
    "Xbase = df_basefe.drop(\"poco\", axis = 1)\n",
    "ybase = df_basefe.poco\n",
    "\n",
    "smt = SMOTE()\n",
    "\n",
    "X, y = smt.fit_sample(X, y)\n",
    "Xbase, ybase = smt.fit_sample(Xbase, ybase)\n",
    "\n",
    "# preparando y e X \n",
    "y = X.fator_foto_cabo\n",
    "X = X.drop(\"fator_foto_cabo\", axis = 1)\n",
    "\n",
    "#fazendo o mesmo para df_base\n",
    "ybase = Xbase.fator_foto_cabo\n",
    "Xbase = Xbase.drop(\"fator_foto_cabo\", axis = 1)"
   ]
  },
  {
   "cell_type": "code",
   "execution_count": 5,
   "metadata": {},
   "outputs": [],
   "source": [
    "df_fe = pd.DataFrame(X)"
   ]
  },
  {
   "cell_type": "code",
   "execution_count": 6,
   "metadata": {},
   "outputs": [],
   "source": [
    "#preparando para a rede\n",
    "\n",
    "X = df_fe  #--> pega tudo \n",
    "y = ybase #--> pega só a a ultima coluna \n",
    "\n",
    "X_train, X_test, y_train, y_test = train_test_split(X, y, test_size=0.25, random_state=10)"
   ]
  },
  {
   "cell_type": "code",
   "execution_count": 7,
   "metadata": {},
   "outputs": [],
   "source": [
    "from xgboost import XGBRegressor\n",
    "# XGboost\n",
    "xgb = XGBRegressor()\n"
   ]
  },
  {
   "cell_type": "code",
   "execution_count": 8,
   "metadata": {},
   "outputs": [],
   "source": [
    "#otimizacao de parametros XGBoost \n",
    "# rodar somente uma vez e depois deixar comentado.\n",
    "\n",
    "\n",
    "#space = {'n_estimators':      hp.quniform('n_estimators', 50, 500, 1), # 50, 500, 1\n",
    "#         'max_depth':         hp.quniform('max_depth', 2, 50, 1), # 2, 50, 1\n",
    "#         'min_child_weight':  hp.quniform('min_child_weight', 1, 50, 1),#  1, 50, 1\n",
    "#         'gamma':             hp.loguniform('gamma', np.log(0.0001), np.log(5)) - 0.0001,\n",
    "#         'subsample':         hp.uniform('subsample', 0.5, 1),\n",
    "#         'colsample_bytree':  hp.uniform('colsample_bytree', 0.75, 1), # 0.5, 1\n",
    "#         'colsample_bylevel': hp.uniform('colsample_bylevel', 0.75, 1), # 0.5, 1\n",
    "#         'reg_alpha':         hp.loguniform('reg_alpha', np.log(0.0001), np.log(1)) - 0.0001,\n",
    "#         'reg_lambda':        hp.loguniform('reg_lambda', np.log(1), np.log(4)),\n",
    "#         'learning_rate':     hp.loguniform('learning_rate', -5, 0)}\n",
    "\n",
    "\n",
    "#kfold = KFold(n_splits=10, shuffle=True, random_state=10)"
   ]
  },
  {
   "cell_type": "code",
   "execution_count": 9,
   "metadata": {},
   "outputs": [],
   "source": [
    "#def gb_r2_cv(params, X=X_train, y=y_train, X_test=X_test, y_test=y_test, cv=kfold, random_state=111):\n",
    "#    params = {'n_estimators':      int(params['n_estimators']),\n",
    "#              'max_depth':         int(params['max_depth']),\n",
    "#              'min_child_weight':  int(params['min_child_weight']),\n",
    "#              'gamma':             params['gamma'],\n",
    "#              'subsample':         params['subsample'],\n",
    "#              'colsample_bytree':  params['colsample_bytree'],\n",
    "#              'colsample_bylevel': params['colsample_bylevel'],\n",
    "#              'reg_alpha':         params['reg_alpha'],\n",
    "#              'reg_lambda':        params['reg_lambda'],\n",
    "#              'learning_rate':     params['learning_rate']}\n",
    "#    xgb = XGBRegressor(random_state=random_state, **params)\n",
    "#    score_cv = cross_val_score(xgb, X, y, cv=cv, scoring='r2', n_jobs=-1).mean()\n",
    "#    xgb.fit(X,y)\n",
    "#    score_va = r2_score(y_test, xgb.predict(X_test))\n",
    "#    score = 1 - (score_cv+score_va)/2\n",
    "#    return score"
   ]
  },
  {
   "cell_type": "code",
   "execution_count": 10,
   "metadata": {},
   "outputs": [],
   "source": [
    "#rodar para otimizar e depois comentar\n",
    "#trials = Trials()\n",
    "#best   = fmin(fn=gb_r2_cv, space=space, algo=anneal.suggest, max_evals=50, trials=trials,\n",
    "#              rstate=np.random.RandomState(111))"
   ]
  },
  {
   "cell_type": "code",
   "execution_count": 11,
   "metadata": {},
   "outputs": [],
   "source": [
    "#xgb    = XGBRegressor(n_estimators =      int(best['n_estimators']),\n",
    "#                      max_depth =         int(best['max_depth']),\n",
    "#                      min_child_weight =  int(best['min_child_weight']),\n",
    "#                      gamma =             best['gamma'],\n",
    "#                      subsample =         best['subsample'],\n",
    "#                      colsample_bytree =  best['colsample_bytree'],\n",
    "#                      colsample_bylevel = best['colsample_bylevel'],\n",
    "#                      reg_alpha =         best['reg_alpha'],\n",
    "#                      reg_lambda =        best['reg_lambda'],\n",
    "#                      learning_rate =     best['learning_rate'],\n",
    "#                      random_state =      111)"
   ]
  },
  {
   "cell_type": "code",
   "execution_count": 12,
   "metadata": {},
   "outputs": [],
   "source": [
    "#print(\"n_estimators\",best['n_estimators']),\n",
    "#print(\"max_depth\",best['max_depth']),\n",
    "#print(\"min_child_weight\",best['min_child_weight']),\n",
    "#print(\"gamma\",best['gamma'])\n",
    "#print(\"subsample\",best['subsample'])\n",
    "#print(\"colsample bytree\",best['colsample_bytree'])\n",
    "#print(\"colsample by level\",best['colsample_bylevel'])\n",
    "#print(\"reg_alpha\",best['reg_alpha'])\n",
    "#print(\"reg_lambda\",best['reg_lambda'])\n",
    "#print(\"learning rate\",best['learning_rate'])"
   ]
  },
  {
   "cell_type": "code",
   "execution_count": 13,
   "metadata": {},
   "outputs": [],
   "source": [
    "# XGB otimizado\n",
    "xgb    = XGBRegressor(n_estimators =     276,\n",
    "                      max_depth =         11,\n",
    "                      min_child_weight =  19,\n",
    "                      gamma =             0.06459585001705498,\n",
    "                      subsample =         0.8186748963752992,\n",
    "                      colsample_bytree =  0.6141126402333327,\n",
    "                      colsample_bylevel = 0.8863183068889218,\n",
    "                      reg_alpha =         0.0006584638828410796,\n",
    "                      reg_lambda =        2.4854801784144382,\n",
    "                      learning_rate =     0.036289118618980425,\n",
    "                      random_state =      111)"
   ]
  },
  {
   "cell_type": "code",
   "execution_count": 14,
   "metadata": {},
   "outputs": [
    {
     "data": {
      "text/plain": [
       "XGBRegressor(base_score=0.5, booster='gbtree',\n",
       "             colsample_bylevel=0.8863183068889218, colsample_bynode=1,\n",
       "             colsample_bytree=0.6141126402333327, gamma=0.06459585001705498,\n",
       "             gpu_id=-1, importance_type='gain', interaction_constraints='',\n",
       "             learning_rate=0.036289118618980425, max_delta_step=0, max_depth=11,\n",
       "             min_child_weight=19, missing=nan, monotone_constraints='()',\n",
       "             n_estimators=276, n_jobs=48, num_parallel_tree=1, random_state=111,\n",
       "             reg_alpha=0.0006584638828410796, reg_lambda=2.4854801784144382,\n",
       "             scale_pos_weight=1, subsample=0.8186748963752992,\n",
       "             tree_method='exact', validate_parameters=1, verbosity=None)"
      ]
     },
     "execution_count": 14,
     "metadata": {},
     "output_type": "execute_result"
    }
   ],
   "source": [
    "\n",
    "# treinando o modelo utilizando o conjunto de treino\n",
    "xgb.fit(X_train,y_train)\n"
   ]
  },
  {
   "cell_type": "code",
   "execution_count": 15,
   "metadata": {},
   "outputs": [
    {
     "name": "stderr",
     "output_type": "stream",
     "text": [
      "/usr/local/lib64/python3.6/site-packages/xgboost/data.py:115: UserWarning: Use subset (sliced data) of np.ndarray is not recommended because it will generate extra copies and increase memory consumption\n",
      "  \"memory consumption\")\n"
     ]
    }
   ],
   "source": [
    "# predizendo o teste\n",
    "y_pred = xgb.predict(X_test)"
   ]
  },
  {
   "cell_type": "code",
   "execution_count": 16,
   "metadata": {},
   "outputs": [
    {
     "name": "stdout",
     "output_type": "stream",
     "text": [
      "Test MSE 0.20727601018082425\n"
     ]
    }
   ],
   "source": [
    "test_mse = mean_squared_error(y_test,y_pred)\n",
    "print('Test MSE',test_mse)\n"
   ]
  },
  {
   "cell_type": "code",
   "execution_count": 17,
   "metadata": {},
   "outputs": [
    {
     "data": {
      "text/html": [
       "<div>\n",
       "<style scoped>\n",
       "    .dataframe tbody tr th:only-of-type {\n",
       "        vertical-align: middle;\n",
       "    }\n",
       "\n",
       "    .dataframe tbody tr th {\n",
       "        vertical-align: top;\n",
       "    }\n",
       "\n",
       "    .dataframe thead th {\n",
       "        text-align: right;\n",
       "    }\n",
       "</style>\n",
       "<table border=\"1\" class=\"dataframe\">\n",
       "  <thead>\n",
       "    <tr style=\"text-align: right;\">\n",
       "      <th></th>\n",
       "      <th>real</th>\n",
       "      <th>previsto</th>\n",
       "    </tr>\n",
       "  </thead>\n",
       "  <tbody>\n",
       "    <tr>\n",
       "      <th>0</th>\n",
       "      <td>3.723052</td>\n",
       "      <td>4.735578</td>\n",
       "    </tr>\n",
       "    <tr>\n",
       "      <th>1</th>\n",
       "      <td>4.471274</td>\n",
       "      <td>4.375924</td>\n",
       "    </tr>\n",
       "    <tr>\n",
       "      <th>2</th>\n",
       "      <td>5.019800</td>\n",
       "      <td>4.602520</td>\n",
       "    </tr>\n",
       "    <tr>\n",
       "      <th>3</th>\n",
       "      <td>4.421200</td>\n",
       "      <td>4.291604</td>\n",
       "    </tr>\n",
       "    <tr>\n",
       "      <th>4</th>\n",
       "      <td>5.528000</td>\n",
       "      <td>4.691340</td>\n",
       "    </tr>\n",
       "    <tr>\n",
       "      <th>5</th>\n",
       "      <td>4.266900</td>\n",
       "      <td>4.571297</td>\n",
       "    </tr>\n",
       "    <tr>\n",
       "      <th>6</th>\n",
       "      <td>4.150389</td>\n",
       "      <td>4.447363</td>\n",
       "    </tr>\n",
       "    <tr>\n",
       "      <th>7</th>\n",
       "      <td>3.553930</td>\n",
       "      <td>4.509815</td>\n",
       "    </tr>\n",
       "    <tr>\n",
       "      <th>8</th>\n",
       "      <td>3.732600</td>\n",
       "      <td>4.599677</td>\n",
       "    </tr>\n",
       "    <tr>\n",
       "      <th>9</th>\n",
       "      <td>4.649100</td>\n",
       "      <td>4.729232</td>\n",
       "    </tr>\n",
       "  </tbody>\n",
       "</table>\n",
       "</div>"
      ],
      "text/plain": [
       "       real  previsto\n",
       "0  3.723052  4.735578\n",
       "1  4.471274  4.375924\n",
       "2  5.019800  4.602520\n",
       "3  4.421200  4.291604\n",
       "4  5.528000  4.691340\n",
       "5  4.266900  4.571297\n",
       "6  4.150389  4.447363\n",
       "7  3.553930  4.509815\n",
       "8  3.732600  4.599677\n",
       "9  4.649100  4.729232"
      ]
     },
     "execution_count": 17,
     "metadata": {},
     "output_type": "execute_result"
    }
   ],
   "source": [
    "resultado = pd.DataFrame(list(zip(y_test, y_pred)), \n",
    "               columns =['real', 'previsto'])\n",
    "\n",
    "resultado.head(10)"
   ]
  },
  {
   "cell_type": "code",
   "execution_count": 18,
   "metadata": {},
   "outputs": [
    {
     "data": {
      "text/plain": [
       "0.2913208063773237"
      ]
     },
     "execution_count": 18,
     "metadata": {},
     "output_type": "execute_result"
    }
   ],
   "source": [
    "r2_score(resultado.real, resultado.previsto)"
   ]
  },
  {
   "cell_type": "code",
   "execution_count": 19,
   "metadata": {},
   "outputs": [
    {
     "name": "stderr",
     "output_type": "stream",
     "text": [
      "/usr/local/lib64/python3.6/site-packages/xgboost/data.py:115: UserWarning: Use subset (sliced data) of np.ndarray is not recommended because it will generate extra copies and increase memory consumption\n",
      "  \"memory consumption\")\n"
     ]
    },
    {
     "data": {
      "text/html": [
       "<div>\n",
       "<style scoped>\n",
       "    .dataframe tbody tr th:only-of-type {\n",
       "        vertical-align: middle;\n",
       "    }\n",
       "\n",
       "    .dataframe tbody tr th {\n",
       "        vertical-align: top;\n",
       "    }\n",
       "\n",
       "    .dataframe thead th {\n",
       "        text-align: right;\n",
       "    }\n",
       "</style>\n",
       "<table border=\"1\" class=\"dataframe\">\n",
       "  <thead>\n",
       "    <tr style=\"text-align: right;\">\n",
       "      <th></th>\n",
       "      <th>real</th>\n",
       "      <th>previsto</th>\n",
       "    </tr>\n",
       "  </thead>\n",
       "  <tbody>\n",
       "    <tr>\n",
       "      <th>0</th>\n",
       "      <td>4.0581</td>\n",
       "      <td>4.492628</td>\n",
       "    </tr>\n",
       "    <tr>\n",
       "      <th>1</th>\n",
       "      <td>4.2562</td>\n",
       "      <td>4.327706</td>\n",
       "    </tr>\n",
       "    <tr>\n",
       "      <th>2</th>\n",
       "      <td>4.1880</td>\n",
       "      <td>4.330344</td>\n",
       "    </tr>\n",
       "    <tr>\n",
       "      <th>3</th>\n",
       "      <td>4.0111</td>\n",
       "      <td>4.048933</td>\n",
       "    </tr>\n",
       "    <tr>\n",
       "      <th>4</th>\n",
       "      <td>3.8406</td>\n",
       "      <td>4.435785</td>\n",
       "    </tr>\n",
       "    <tr>\n",
       "      <th>5</th>\n",
       "      <td>3.7241</td>\n",
       "      <td>4.185510</td>\n",
       "    </tr>\n",
       "    <tr>\n",
       "      <th>6</th>\n",
       "      <td>3.7738</td>\n",
       "      <td>4.105799</td>\n",
       "    </tr>\n",
       "    <tr>\n",
       "      <th>7</th>\n",
       "      <td>3.9604</td>\n",
       "      <td>4.232831</td>\n",
       "    </tr>\n",
       "    <tr>\n",
       "      <th>8</th>\n",
       "      <td>4.1767</td>\n",
       "      <td>4.366232</td>\n",
       "    </tr>\n",
       "    <tr>\n",
       "      <th>9</th>\n",
       "      <td>4.2579</td>\n",
       "      <td>4.326648</td>\n",
       "    </tr>\n",
       "  </tbody>\n",
       "</table>\n",
       "</div>"
      ],
      "text/plain": [
       "     real  previsto\n",
       "0  4.0581  4.492628\n",
       "1  4.2562  4.327706\n",
       "2  4.1880  4.330344\n",
       "3  4.0111  4.048933\n",
       "4  3.8406  4.435785\n",
       "5  3.7241  4.185510\n",
       "6  3.7738  4.105799\n",
       "7  3.9604  4.232831\n",
       "8  4.1767  4.366232\n",
       "9  4.2579  4.326648"
      ]
     },
     "execution_count": 19,
     "metadata": {},
     "output_type": "execute_result"
    }
   ],
   "source": [
    "#Fazendo predict para todos os dados\n",
    "y_total = xgb.predict(X)\n",
    "\n",
    "resultado = pd.DataFrame(list(zip(y, y_total)), \n",
    "               columns =['real', 'previsto'])\n",
    "\n",
    "resultado.head(10)"
   ]
  },
  {
   "cell_type": "code",
   "execution_count": 20,
   "metadata": {},
   "outputs": [
    {
     "data": {
      "text/plain": [
       "Text(0.5, 1.0, 'FE - Cabo x LWD - AJUSTE XGB')"
      ]
     },
     "execution_count": 20,
     "metadata": {},
     "output_type": "execute_result"
    },
    {
     "data": {
      "image/png": "[encoded data removed]",
      "text/plain": [
       "<Figure size 432x288 with 1 Axes>"
      ]
     },
     "metadata": {
      "needs_background": "light"
     },
     "output_type": "display_data"
    }
   ],
   "source": [
    "resultado.plot(kind='scatter', x='real', y='previsto',vmin=0, vmax=150)\n",
    "plt.plot(resultado[\"real\"],resultado[\"real\"])\n",
    "plt.xlim(2,11)\n",
    "plt.ylim(2,11)\n",
    "plt.title(\"FE - Cabo x LWD - AJUSTE XGB\")"
   ]
  },
  {
   "cell_type": "code",
   "execution_count": 21,
   "metadata": {},
   "outputs": [
    {
     "data": {
      "text/plain": [
       "Text(0.5, 1.0, 'FE - Cabo x LWD - KDE - ajuste XGB')"
      ]
     },
     "execution_count": 21,
     "metadata": {},
     "output_type": "execute_result"
    },
    {
     "data": {
      "image/png": "[encoded data removed]",
      "text/plain": [
       "<Figure size 432x288 with 1 Axes>"
      ]
     },
     "metadata": {
      "needs_background": "light"
     },
     "output_type": "display_data"
    }
   ],
   "source": [
    "\n",
    "resultado.previsto.plot(kind='kde')\n",
    "resultado.real.plot(kind='kde')\n",
    "plt.xlim(0,13)\n",
    "plt.ylim(0, 1.25) #ylim upper may change depending on data\n",
    "plt.legend()\n",
    "plt.title(\"FE - Cabo x LWD - KDE - ajuste XGB\")\n"
   ]
  },
  {
   "cell_type": "code",
   "execution_count": 22,
   "metadata": {},
   "outputs": [
    {
     "ename": "ValueError",
     "evalue": "Found array with 0 sample(s) (shape=(0, 5)) while a minimum of 1 is required by StandardScaler.",
     "output_type": "error",
     "traceback": [
      "\u001b[0;31m---------------------------------------------------------------------------\u001b[0m",
      "\u001b[0;31mValueError\u001b[0m                                Traceback (most recent call last)",
      "\u001b[0;32m<ipython-input-22-728cfbccdd4d>\u001b[0m in \u001b[0;36m<module>\u001b[0;34m\u001b[0m\n\u001b[1;32m     10\u001b[0m \u001b[0;34m\u001b[0m\u001b[0m\n\u001b[1;32m     11\u001b[0m \u001b[0mxw1\u001b[0m \u001b[0;34m=\u001b[0m \u001b[0mdfw1_fe\u001b[0m\u001b[0;34m.\u001b[0m\u001b[0mvalues\u001b[0m\u001b[0;34m\u001b[0m\u001b[0;34m\u001b[0m\u001b[0m\n\u001b[0;32m---> 12\u001b[0;31m \u001b[0mxw1_scaled\u001b[0m \u001b[0;34m=\u001b[0m \u001b[0mnormalizer\u001b[0m\u001b[0;34m.\u001b[0m\u001b[0mfit_transform\u001b[0m\u001b[0;34m(\u001b[0m\u001b[0mxw1\u001b[0m\u001b[0;34m)\u001b[0m\u001b[0;34m\u001b[0m\u001b[0;34m\u001b[0m\u001b[0m\n\u001b[0m\u001b[1;32m     13\u001b[0m \u001b[0mdfw1_fe\u001b[0m \u001b[0;34m=\u001b[0m \u001b[0mpd\u001b[0m\u001b[0;34m.\u001b[0m\u001b[0mDataFrame\u001b[0m\u001b[0;34m(\u001b[0m\u001b[0mxw1_scaled\u001b[0m\u001b[0;34m)\u001b[0m\u001b[0;34m\u001b[0m\u001b[0;34m\u001b[0m\u001b[0m\n\u001b[1;32m     14\u001b[0m \u001b[0mXw1\u001b[0m \u001b[0;34m=\u001b[0m \u001b[0mdfw1_fe\u001b[0m\u001b[0;34m\u001b[0m\u001b[0;34m\u001b[0m\u001b[0m\n",
      "\u001b[0;32m/usr/local/lib64/python3.6/site-packages/sklearn/base.py\u001b[0m in \u001b[0;36mfit_transform\u001b[0;34m(self, X, y, **fit_params)\u001b[0m\n\u001b[1;32m    688\u001b[0m         \u001b[0;32mif\u001b[0m \u001b[0my\u001b[0m \u001b[0;32mis\u001b[0m \u001b[0;32mNone\u001b[0m\u001b[0;34m:\u001b[0m\u001b[0;34m\u001b[0m\u001b[0;34m\u001b[0m\u001b[0m\n\u001b[1;32m    689\u001b[0m             \u001b[0;31m# fit method of arity 1 (unsupervised transformation)\u001b[0m\u001b[0;34m\u001b[0m\u001b[0;34m\u001b[0m\u001b[0;34m\u001b[0m\u001b[0m\n\u001b[0;32m--> 690\u001b[0;31m             \u001b[0;32mreturn\u001b[0m \u001b[0mself\u001b[0m\u001b[0;34m.\u001b[0m\u001b[0mfit\u001b[0m\u001b[0;34m(\u001b[0m\u001b[0mX\u001b[0m\u001b[0;34m,\u001b[0m \u001b[0;34m**\u001b[0m\u001b[0mfit_params\u001b[0m\u001b[0;34m)\u001b[0m\u001b[0;34m.\u001b[0m\u001b[0mtransform\u001b[0m\u001b[0;34m(\u001b[0m\u001b[0mX\u001b[0m\u001b[0;34m)\u001b[0m\u001b[0;34m\u001b[0m\u001b[0;34m\u001b[0m\u001b[0m\n\u001b[0m\u001b[1;32m    691\u001b[0m         \u001b[0;32melse\u001b[0m\u001b[0;34m:\u001b[0m\u001b[0;34m\u001b[0m\u001b[0;34m\u001b[0m\u001b[0m\n\u001b[1;32m    692\u001b[0m             \u001b[0;31m# fit method of arity 2 (supervised transformation)\u001b[0m\u001b[0;34m\u001b[0m\u001b[0;34m\u001b[0m\u001b[0;34m\u001b[0m\u001b[0m\n",
      "\u001b[0;32m/usr/local/lib64/python3.6/site-packages/sklearn/preprocessing/_data.py\u001b[0m in \u001b[0;36mfit\u001b[0;34m(self, X, y)\u001b[0m\n\u001b[1;32m    665\u001b[0m         \u001b[0;31m# Reset internal state before fitting\u001b[0m\u001b[0;34m\u001b[0m\u001b[0;34m\u001b[0m\u001b[0;34m\u001b[0m\u001b[0m\n\u001b[1;32m    666\u001b[0m         \u001b[0mself\u001b[0m\u001b[0;34m.\u001b[0m\u001b[0m_reset\u001b[0m\u001b[0;34m(\u001b[0m\u001b[0;34m)\u001b[0m\u001b[0;34m\u001b[0m\u001b[0;34m\u001b[0m\u001b[0m\n\u001b[0;32m--> 667\u001b[0;31m         \u001b[0;32mreturn\u001b[0m \u001b[0mself\u001b[0m\u001b[0;34m.\u001b[0m\u001b[0mpartial_fit\u001b[0m\u001b[0;34m(\u001b[0m\u001b[0mX\u001b[0m\u001b[0;34m,\u001b[0m \u001b[0my\u001b[0m\u001b[0;34m)\u001b[0m\u001b[0;34m\u001b[0m\u001b[0;34m\u001b[0m\u001b[0m\n\u001b[0m\u001b[1;32m    668\u001b[0m \u001b[0;34m\u001b[0m\u001b[0m\n\u001b[1;32m    669\u001b[0m     \u001b[0;32mdef\u001b[0m \u001b[0mpartial_fit\u001b[0m\u001b[0;34m(\u001b[0m\u001b[0mself\u001b[0m\u001b[0;34m,\u001b[0m \u001b[0mX\u001b[0m\u001b[0;34m,\u001b[0m \u001b[0my\u001b[0m\u001b[0;34m=\u001b[0m\u001b[0;32mNone\u001b[0m\u001b[0;34m)\u001b[0m\u001b[0;34m:\u001b[0m\u001b[0;34m\u001b[0m\u001b[0;34m\u001b[0m\u001b[0m\n",
      "\u001b[0;32m/usr/local/lib64/python3.6/site-packages/sklearn/preprocessing/_data.py\u001b[0m in \u001b[0;36mpartial_fit\u001b[0;34m(self, X, y)\u001b[0m\n\u001b[1;32m    696\u001b[0m         X = self._validate_data(X, accept_sparse=('csr', 'csc'),\n\u001b[1;32m    697\u001b[0m                                 \u001b[0mestimator\u001b[0m\u001b[0;34m=\u001b[0m\u001b[0mself\u001b[0m\u001b[0;34m,\u001b[0m \u001b[0mdtype\u001b[0m\u001b[0;34m=\u001b[0m\u001b[0mFLOAT_DTYPES\u001b[0m\u001b[0;34m,\u001b[0m\u001b[0;34m\u001b[0m\u001b[0;34m\u001b[0m\u001b[0m\n\u001b[0;32m--> 698\u001b[0;31m                                 force_all_finite='allow-nan')\n\u001b[0m\u001b[1;32m    699\u001b[0m \u001b[0;34m\u001b[0m\u001b[0m\n\u001b[1;32m    700\u001b[0m         \u001b[0;31m# Even in the case of `with_mean=False`, we update the mean anyway\u001b[0m\u001b[0;34m\u001b[0m\u001b[0;34m\u001b[0m\u001b[0;34m\u001b[0m\u001b[0m\n",
      "\u001b[0;32m/usr/local/lib64/python3.6/site-packages/sklearn/base.py\u001b[0m in \u001b[0;36m_validate_data\u001b[0;34m(self, X, y, reset, validate_separately, **check_params)\u001b[0m\n\u001b[1;32m    418\u001b[0m                     \u001b[0;34mf\"requires y to be passed, but the target y is None.\"\u001b[0m\u001b[0;34m\u001b[0m\u001b[0;34m\u001b[0m\u001b[0m\n\u001b[1;32m    419\u001b[0m                 )\n\u001b[0;32m--> 420\u001b[0;31m             \u001b[0mX\u001b[0m \u001b[0;34m=\u001b[0m \u001b[0mcheck_array\u001b[0m\u001b[0;34m(\u001b[0m\u001b[0mX\u001b[0m\u001b[0;34m,\u001b[0m \u001b[0;34m**\u001b[0m\u001b[0mcheck_params\u001b[0m\u001b[0;34m)\u001b[0m\u001b[0;34m\u001b[0m\u001b[0;34m\u001b[0m\u001b[0m\n\u001b[0m\u001b[1;32m    421\u001b[0m             \u001b[0mout\u001b[0m \u001b[0;34m=\u001b[0m \u001b[0mX\u001b[0m\u001b[0;34m\u001b[0m\u001b[0;34m\u001b[0m\u001b[0m\n\u001b[1;32m    422\u001b[0m         \u001b[0;32melse\u001b[0m\u001b[0;34m:\u001b[0m\u001b[0;34m\u001b[0m\u001b[0;34m\u001b[0m\u001b[0m\n",
      "\u001b[0;32m/usr/local/lib64/python3.6/site-packages/sklearn/utils/validation.py\u001b[0m in \u001b[0;36minner_f\u001b[0;34m(*args, **kwargs)\u001b[0m\n\u001b[1;32m     70\u001b[0m                           FutureWarning)\n\u001b[1;32m     71\u001b[0m         \u001b[0mkwargs\u001b[0m\u001b[0;34m.\u001b[0m\u001b[0mupdate\u001b[0m\u001b[0;34m(\u001b[0m\u001b[0;34m{\u001b[0m\u001b[0mk\u001b[0m\u001b[0;34m:\u001b[0m \u001b[0marg\u001b[0m \u001b[0;32mfor\u001b[0m \u001b[0mk\u001b[0m\u001b[0;34m,\u001b[0m \u001b[0marg\u001b[0m \u001b[0;32min\u001b[0m \u001b[0mzip\u001b[0m\u001b[0;34m(\u001b[0m\u001b[0msig\u001b[0m\u001b[0;34m.\u001b[0m\u001b[0mparameters\u001b[0m\u001b[0;34m,\u001b[0m \u001b[0margs\u001b[0m\u001b[0;34m)\u001b[0m\u001b[0;34m}\u001b[0m\u001b[0;34m)\u001b[0m\u001b[0;34m\u001b[0m\u001b[0;34m\u001b[0m\u001b[0m\n\u001b[0;32m---> 72\u001b[0;31m         \u001b[0;32mreturn\u001b[0m \u001b[0mf\u001b[0m\u001b[0;34m(\u001b[0m\u001b[0;34m**\u001b[0m\u001b[0mkwargs\u001b[0m\u001b[0;34m)\u001b[0m\u001b[0;34m\u001b[0m\u001b[0;34m\u001b[0m\u001b[0m\n\u001b[0m\u001b[1;32m     73\u001b[0m     \u001b[0;32mreturn\u001b[0m \u001b[0minner_f\u001b[0m\u001b[0;34m\u001b[0m\u001b[0;34m\u001b[0m\u001b[0m\n\u001b[1;32m     74\u001b[0m \u001b[0;34m\u001b[0m\u001b[0m\n",
      "\u001b[0;32m/usr/local/lib64/python3.6/site-packages/sklearn/utils/validation.py\u001b[0m in \u001b[0;36mcheck_array\u001b[0;34m(array, accept_sparse, accept_large_sparse, dtype, order, copy, force_all_finite, ensure_2d, allow_nd, ensure_min_samples, ensure_min_features, estimator)\u001b[0m\n\u001b[1;32m    651\u001b[0m                              \u001b[0;34m\" minimum of %d is required%s.\"\u001b[0m\u001b[0;34m\u001b[0m\u001b[0;34m\u001b[0m\u001b[0m\n\u001b[1;32m    652\u001b[0m                              % (n_samples, array.shape, ensure_min_samples,\n\u001b[0;32m--> 653\u001b[0;31m                                 context))\n\u001b[0m\u001b[1;32m    654\u001b[0m \u001b[0;34m\u001b[0m\u001b[0m\n\u001b[1;32m    655\u001b[0m     \u001b[0;32mif\u001b[0m \u001b[0mensure_min_features\u001b[0m \u001b[0;34m>\u001b[0m \u001b[0;36m0\u001b[0m \u001b[0;32mand\u001b[0m \u001b[0marray\u001b[0m\u001b[0;34m.\u001b[0m\u001b[0mndim\u001b[0m \u001b[0;34m==\u001b[0m \u001b[0;36m2\u001b[0m\u001b[0;34m:\u001b[0m\u001b[0;34m\u001b[0m\u001b[0;34m\u001b[0m\u001b[0m\n",
      "\u001b[0;31mValueError\u001b[0m: Found array with 0 sample(s) (shape=(0, 5)) while a minimum of 1 is required by StandardScaler."
     ]
    }
   ],
   "source": [
    "# Gerando previsao para os poços\n",
    "normalizer   = StandardScaler()\n",
    "\n",
    "# w1\n",
    "\n",
    "dfw1 = df_base[df_base['poco'] == 'w1']\n",
    "dfw1_fe = dfw1[selected_columns]\n",
    "dfw1_fe = dfw1_fe.drop(columns=['fator_foto_cabo'])\n",
    "dfw1_fe = dfw1_fe.drop(columns=['poco'])\n",
    "\n",
    "xw1 = dfw1_fe.values\n",
    "xw1_scaled = normalizer.fit_transform(xw1)\n",
    "dfw1_fe = pd.DataFrame(xw1_scaled)\n",
    "Xw1 = dfw1_fe\n",
    "\n",
    "# w2\n",
    "\n",
    "dfw2 = df_base[df_base['poco'] == 'w2']\n",
    "dfw2_fe = dfw2[selected_columns]\n",
    "dfw2_fe = dfw2_fe.drop(columns=['fator_foto_cabo'])\n",
    "dfw2_fe = dfw2_fe.drop(columns=['poco'])\n",
    "\n",
    "xw2 = dfw2_fe.values\n",
    "xw2_scaled = normalizer.fit_transform(xw2)\n",
    "dfw2_fe = pd.DataFrame(xw2_scaled)\n",
    "Xw2 = dfw2_fe"
   ]
  },
  {
   "cell_type": "code",
   "execution_count": null,
   "metadata": {},
   "outputs": [],
   "source": [
    "fe_w1 = xgb.predict(Xw1)\n",
    "fe_w2 = xgb.predict(Xw2)\n"
   ]
  },
  {
   "cell_type": "code",
   "execution_count": null,
   "metadata": {},
   "outputs": [],
   "source": [
    "dfw1_previsao = pd.DataFrame(list(zip(dfw1.DEPTH, dfw1.fator_foto_cabo, dfw1.fator_foto_LWD, fe_w1)), \n",
    "               columns =['Depth', 'fator_foto_cabo','fator_foto_LWD','fator_foto_previsto'])\n",
    "\n",
    "\n",
    "dfw2_previsao = pd.DataFrame(list(zip(dfw2.DEPTH, dfw2.fator_foto_cabo, dfw2.fator_foto_LWD, fe_w2)), \n",
    "               columns =['Depth', 'fator_foto_cabo','fator_foto_LWD','fator_foto_previsto'])\n"
   ]
  },
  {
   "cell_type": "code",
   "execution_count": null,
   "metadata": {},
   "outputs": [],
   "source": [
    "mse = mean_squared_error(dfw1_previsao.fator_foto_cabo,dfw1_previsao.fator_foto_previsto)\n",
    "print('MSE w1',mse)"
   ]
  },
  {
   "cell_type": "code",
   "execution_count": null,
   "metadata": {},
   "outputs": [],
   "source": [
    "mse = mean_squared_error(dfw2_previsao.fator_foto_cabo,dfw2_previsao.fator_foto_previsto)\n",
    "print('MSE w2',mse)"
   ]
  },
  {
   "cell_type": "code",
   "execution_count": null,
   "metadata": {},
   "outputs": [],
   "source": [
    "print('R2 FE - XGB w1',r2_score(dfw1_previsao.fator_foto_cabo, dfw1_previsao.fator_foto_previsto))\n"
   ]
  },
  {
   "cell_type": "code",
   "execution_count": null,
   "metadata": {},
   "outputs": [],
   "source": [
    "print('R2 FE - XGB w2',r2_score(dfw2_previsao.fator_foto_cabo, dfw2_previsao.fator_foto_previsto))"
   ]
  },
  {
   "cell_type": "code",
   "execution_count": null,
   "metadata": {},
   "outputs": [],
   "source": [
    "dfw1_previsao.fator_foto_cabo.plot(kind='kde')\n",
    "dfw1_previsao.fator_foto_previsto.plot(kind='kde')\n",
    "dfw1_previsao.fator_foto_LWD.plot(kind='kde')\n",
    "plt.xlim(0,13)\n",
    "plt.ylim(0, 2.0) #ylim upper may change depending on data\n",
    "plt.legend()\n",
    "plt.title(\"FE - Cabo x LWD - KDE - ajuste XGB - w1\")"
   ]
  },
  {
   "cell_type": "code",
   "execution_count": null,
   "metadata": {},
   "outputs": [],
   "source": [
    "dfw2_previsao.fator_foto_cabo.plot(kind='kde')\n",
    "dfw2_previsao.fator_foto_previsto.plot(kind='kde')\n",
    "dfw2_previsao.fator_foto_LWD.plot(kind='kde')\n",
    "plt.xlim(0,13)\n",
    "plt.ylim(0, 2.0) #ylim upper may change depending on data\n",
    "plt.legend()\n",
    "plt.title(\"FE - Cabo x LWD - KDE - ajuste XGB - w2\")"
   ]
  },
  {
   "cell_type": "code",
   "execution_count": null,
   "metadata": {},
   "outputs": [],
   "source": [
    "# função para plotar perfis e comparar dois a dois\n",
    "\n",
    "def log_plot(logs):\n",
    "    logs = logs.sort_values(by='Depth')\n",
    "    top = logs.Depth.min()\n",
    "    bot = logs.Depth.max()\n",
    "    \n",
    "    f, ax = plt.subplots(nrows=1, ncols=3, figsize=(6,8))\n",
    "    ax[0].plot(logs.fator_foto_LWD, logs.Depth, color='green')\n",
    "    ax[0].plot(logs.fator_foto_cabo, logs.Depth, color='red')\n",
    "    ax[0].plot(logs.fator_foto_previsto, logs.Depth, color='blue')\n",
    "    ax[1].plot(logs.fator_foto_cabo, logs.Depth, color='red')\n",
    "    ax[1].plot(logs.fator_foto_previsto, logs.Depth, color='blue')\n",
    "    ax[2].plot(logs.fator_foto_LWD, logs.Depth, color='green')\n",
    "    ax[2].plot(logs.fator_foto_cabo, logs.Depth, color='red')\n",
    "    \n",
    "\n",
    "    for i in range(len(ax)):\n",
    "        ax[i].set_ylim(top,bot)\n",
    "        ax[i].invert_yaxis()\n",
    "        ax[i].grid()\n",
    "        \n",
    "    ax[0].set_xlabel(\"Fator fotoeletrico\")\n",
    "    ax[0].set_xlim(logs.fator_foto_cabo.min(),logs.fator_foto_LWD.max())\n",
    "    ax[0].set_ylabel(\"Depth\")\n",
    "#    ax[1].set_xlabel(\"caliper\")\n",
    "#    ax[1].set_xlim(logs.caliper_cabo.min(),logs.caliper_LWD.max())\n",
    "#    ax[2].set_xlabel(\"densidade\")\n",
    "#    ax[2].set_xlim(logs.densidade_LWD.min(),logs.densidade_cabo.max())\n",
    "    ax[1].set_xlabel(\"FE - cabo x previsto\")\n",
    "    ax[1].set_xlim(logs.fator_foto_cabo.min(),logs.fator_foto_cabo.max())\n",
    "    ax[2].set_xlabel(\"FE cabo x LWD\")\n",
    "    ax[2].set_xlim(logs.fator_foto_cabo.min(),logs.fator_foto_LWD.max())\n",
    "#    ax[5].set_xlabel(\"corr. perfil dens\")\n",
    "#    ax[5].set_xlim(logs.correcao_perfil_densidade_cabo.min(),logs.correcao_perfil_densidade_LWD.max())\n",
    "\n",
    "#    f.suptitle('Well: xxxx', fontsize=14,y=0.94)"
   ]
  },
  {
   "cell_type": "code",
   "execution_count": null,
   "metadata": {},
   "outputs": [],
   "source": [
    "#transformar profundidade em coluna para usar no plot em seguida\n",
    "dfw1_previsao['Depth'] = dfw1_previsao.index\n",
    "dfw2_previsao['Depth'] = dfw2_previsao.index\n"
   ]
  },
  {
   "cell_type": "code",
   "execution_count": null,
   "metadata": {},
   "outputs": [],
   "source": [
    "log_plot(dfw1_previsao)\n",
    "print('w1')\n"
   ]
  },
  {
   "cell_type": "code",
   "execution_count": null,
   "metadata": {},
   "outputs": [],
   "source": [
    "log_plot(dfw2_previsao)\n",
    "print('w2')"
   ]
  },
  {
   "cell_type": "code",
   "execution_count": null,
   "metadata": {},
   "outputs": [],
   "source": []
  }
 ],
 "metadata": {
  "kernelspec": {
   "display_name": "Python 3",
   "language": "python",
   "name": "python3"
  },
  "language_info": {
   "codemirror_mode": {
    "name": "ipython",
    "version": 3
   },
   "file_extension": ".py",
   "mimetype": "text/x-python",
   "name": "python",
   "nbconvert_exporter": "python",
   "pygments_lexer": "ipython3",
   "version": "3.6.8"
  }
 },
 "nbformat": 4,
 "nbformat_minor": 4
}
